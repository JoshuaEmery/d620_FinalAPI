{
  "cells": [
    {
      "cell_type": "code",
      "execution_count": 4,
      "metadata": {
        "colab": {
          "base_uri": "https://localhost:8080/"
        },
        "id": "ohBH7etyl4jN",
        "outputId": "4779e07d-91cf-4549-d6d7-b8a4d7cd87f0"
      },
      "outputs": [
        {
          "name": "stdout",
          "output_type": "stream",
          "text": [
            "Requirement already satisfied: tensorflow_decision_forests in /usr/local/lib/python3.10/dist-packages (1.9.1)\n",
            "Requirement already satisfied: numpy in /usr/local/lib/python3.10/dist-packages (from tensorflow_decision_forests) (1.25.2)\n",
            "Requirement already satisfied: pandas in /usr/local/lib/python3.10/dist-packages (from tensorflow_decision_forests) (2.0.3)\n",
            "Requirement already satisfied: tensorflow~=2.16.1 in /usr/local/lib/python3.10/dist-packages (from tensorflow_decision_forests) (2.16.1)\n",
            "Requirement already satisfied: six in /usr/local/lib/python3.10/dist-packages (from tensorflow_decision_forests) (1.16.0)\n",
            "Requirement already satisfied: absl-py in /usr/local/lib/python3.10/dist-packages (from tensorflow_decision_forests) (1.4.0)\n",
            "Requirement already satisfied: wheel in /usr/local/lib/python3.10/dist-packages (from tensorflow_decision_forests) (0.43.0)\n",
            "Requirement already satisfied: wurlitzer in /usr/local/lib/python3.10/dist-packages (from tensorflow_decision_forests) (3.1.0)\n",
            "Requirement already satisfied: tf-keras~=2.16 in /usr/local/lib/python3.10/dist-packages (from tensorflow_decision_forests) (2.16.0)\n",
            "Requirement already satisfied: ydf in /usr/local/lib/python3.10/dist-packages (from tensorflow_decision_forests) (0.4.3)\n",
            "Requirement already satisfied: astunparse>=1.6.0 in /usr/local/lib/python3.10/dist-packages (from tensorflow~=2.16.1->tensorflow_decision_forests) (1.6.3)\n",
            "Requirement already satisfied: flatbuffers>=23.5.26 in /usr/local/lib/python3.10/dist-packages (from tensorflow~=2.16.1->tensorflow_decision_forests) (24.3.25)\n",
            "Requirement already satisfied: gast!=0.5.0,!=0.5.1,!=0.5.2,>=0.2.1 in /usr/local/lib/python3.10/dist-packages (from tensorflow~=2.16.1->tensorflow_decision_forests) (0.5.4)\n",
            "Requirement already satisfied: google-pasta>=0.1.1 in /usr/local/lib/python3.10/dist-packages (from tensorflow~=2.16.1->tensorflow_decision_forests) (0.2.0)\n",
            "Requirement already satisfied: h5py>=3.10.0 in /usr/local/lib/python3.10/dist-packages (from tensorflow~=2.16.1->tensorflow_decision_forests) (3.11.0)\n",
            "Requirement already satisfied: libclang>=13.0.0 in /usr/local/lib/python3.10/dist-packages (from tensorflow~=2.16.1->tensorflow_decision_forests) (18.1.1)\n",
            "Requirement already satisfied: ml-dtypes~=0.3.1 in /usr/local/lib/python3.10/dist-packages (from tensorflow~=2.16.1->tensorflow_decision_forests) (0.3.2)\n",
            "Requirement already satisfied: opt-einsum>=2.3.2 in /usr/local/lib/python3.10/dist-packages (from tensorflow~=2.16.1->tensorflow_decision_forests) (3.3.0)\n",
            "Requirement already satisfied: packaging in /usr/local/lib/python3.10/dist-packages (from tensorflow~=2.16.1->tensorflow_decision_forests) (24.0)\n",
            "Requirement already satisfied: protobuf!=4.21.0,!=4.21.1,!=4.21.2,!=4.21.3,!=4.21.4,!=4.21.5,<5.0.0dev,>=3.20.3 in /usr/local/lib/python3.10/dist-packages (from tensorflow~=2.16.1->tensorflow_decision_forests) (3.20.3)\n",
            "Requirement already satisfied: requests<3,>=2.21.0 in /usr/local/lib/python3.10/dist-packages (from tensorflow~=2.16.1->tensorflow_decision_forests) (2.31.0)\n",
            "Requirement already satisfied: setuptools in /usr/local/lib/python3.10/dist-packages (from tensorflow~=2.16.1->tensorflow_decision_forests) (67.7.2)\n",
            "Requirement already satisfied: termcolor>=1.1.0 in /usr/local/lib/python3.10/dist-packages (from tensorflow~=2.16.1->tensorflow_decision_forests) (2.4.0)\n",
            "Requirement already satisfied: typing-extensions>=3.6.6 in /usr/local/lib/python3.10/dist-packages (from tensorflow~=2.16.1->tensorflow_decision_forests) (4.11.0)\n",
            "Requirement already satisfied: wrapt>=1.11.0 in /usr/local/lib/python3.10/dist-packages (from tensorflow~=2.16.1->tensorflow_decision_forests) (1.14.1)\n",
            "Requirement already satisfied: grpcio<2.0,>=1.24.3 in /usr/local/lib/python3.10/dist-packages (from tensorflow~=2.16.1->tensorflow_decision_forests) (1.63.0)\n",
            "Requirement already satisfied: tensorboard<2.17,>=2.16 in /usr/local/lib/python3.10/dist-packages (from tensorflow~=2.16.1->tensorflow_decision_forests) (2.16.2)\n",
            "Requirement already satisfied: keras>=3.0.0 in /usr/local/lib/python3.10/dist-packages (from tensorflow~=2.16.1->tensorflow_decision_forests) (3.3.3)\n",
            "Requirement already satisfied: tensorflow-io-gcs-filesystem>=0.23.1 in /usr/local/lib/python3.10/dist-packages (from tensorflow~=2.16.1->tensorflow_decision_forests) (0.37.0)\n",
            "Requirement already satisfied: python-dateutil>=2.8.2 in /usr/local/lib/python3.10/dist-packages (from pandas->tensorflow_decision_forests) (2.8.2)\n",
            "Requirement already satisfied: pytz>=2020.1 in /usr/local/lib/python3.10/dist-packages (from pandas->tensorflow_decision_forests) (2023.4)\n",
            "Requirement already satisfied: tzdata>=2022.1 in /usr/local/lib/python3.10/dist-packages (from pandas->tensorflow_decision_forests) (2024.1)\n",
            "Requirement already satisfied: rich in /usr/local/lib/python3.10/dist-packages (from keras>=3.0.0->tensorflow~=2.16.1->tensorflow_decision_forests) (13.7.1)\n",
            "Requirement already satisfied: namex in /usr/local/lib/python3.10/dist-packages (from keras>=3.0.0->tensorflow~=2.16.1->tensorflow_decision_forests) (0.0.8)\n",
            "Requirement already satisfied: optree in /usr/local/lib/python3.10/dist-packages (from keras>=3.0.0->tensorflow~=2.16.1->tensorflow_decision_forests) (0.11.0)\n",
            "Requirement already satisfied: charset-normalizer<4,>=2 in /usr/local/lib/python3.10/dist-packages (from requests<3,>=2.21.0->tensorflow~=2.16.1->tensorflow_decision_forests) (3.3.2)\n",
            "Requirement already satisfied: idna<4,>=2.5 in /usr/local/lib/python3.10/dist-packages (from requests<3,>=2.21.0->tensorflow~=2.16.1->tensorflow_decision_forests) (3.7)\n",
            "Requirement already satisfied: urllib3<3,>=1.21.1 in /usr/local/lib/python3.10/dist-packages (from requests<3,>=2.21.0->tensorflow~=2.16.1->tensorflow_decision_forests) (2.0.7)\n",
            "Requirement already satisfied: certifi>=2017.4.17 in /usr/local/lib/python3.10/dist-packages (from requests<3,>=2.21.0->tensorflow~=2.16.1->tensorflow_decision_forests) (2024.2.2)\n",
            "Requirement already satisfied: markdown>=2.6.8 in /usr/local/lib/python3.10/dist-packages (from tensorboard<2.17,>=2.16->tensorflow~=2.16.1->tensorflow_decision_forests) (3.6)\n",
            "Requirement already satisfied: tensorboard-data-server<0.8.0,>=0.7.0 in /usr/local/lib/python3.10/dist-packages (from tensorboard<2.17,>=2.16->tensorflow~=2.16.1->tensorflow_decision_forests) (0.7.2)\n",
            "Requirement already satisfied: werkzeug>=1.0.1 in /usr/local/lib/python3.10/dist-packages (from tensorboard<2.17,>=2.16->tensorflow~=2.16.1->tensorflow_decision_forests) (3.0.3)\n",
            "Requirement already satisfied: MarkupSafe>=2.1.1 in /usr/local/lib/python3.10/dist-packages (from werkzeug>=1.0.1->tensorboard<2.17,>=2.16->tensorflow~=2.16.1->tensorflow_decision_forests) (2.1.5)\n",
            "Requirement already satisfied: markdown-it-py>=2.2.0 in /usr/local/lib/python3.10/dist-packages (from rich->keras>=3.0.0->tensorflow~=2.16.1->tensorflow_decision_forests) (3.0.0)\n",
            "Requirement already satisfied: pygments<3.0.0,>=2.13.0 in /usr/local/lib/python3.10/dist-packages (from rich->keras>=3.0.0->tensorflow~=2.16.1->tensorflow_decision_forests) (2.16.1)\n",
            "Requirement already satisfied: mdurl~=0.1 in /usr/local/lib/python3.10/dist-packages (from markdown-it-py>=2.2.0->rich->keras>=3.0.0->tensorflow~=2.16.1->tensorflow_decision_forests) (0.1.2)\n"
          ]
        }
      ],
      "source": [
        "!pip install tensorflow_decision_forests"
      ]
    },
    {
      "cell_type": "code",
      "execution_count": 5,
      "metadata": {
        "id": "xqsv6_P3spGV"
      },
      "outputs": [],
      "source": [
        "import pandas as pd\n",
        "import numpy as np\n",
        "from sklearn.model_selection import train_test_split\n",
        "import tensorflow_decision_forests as tfdf\n",
        "from sklearn.metrics import mean_absolute_error, r2_score"
      ]
    },
    {
      "cell_type": "code",
      "execution_count": 6,
      "metadata": {
        "colab": {
          "base_uri": "https://localhost:8080/"
        },
        "id": "fDPuad6gswWp",
        "outputId": "b4e4d50b-39ad-4fe9-c09a-8e41f3099676"
      },
      "outputs": [
        {
          "name": "stdout",
          "output_type": "stream",
          "text": [
            "    Body Type     Sex         Diet How Often Shower Heating Energy Source  \\\n",
            "0  overweight  female  pescatarian            daily                  coal   \n",
            "1       obese  female   vegetarian  less frequently           natural gas   \n",
            "2  overweight    male     omnivore  more frequently                  wood   \n",
            "3  overweight    male     omnivore      twice a day                  wood   \n",
            "4       obese  female   vegetarian            daily                  coal   \n",
            "\n",
            "      Transport Vehicle Type Social Activity  Monthly Grocery Bill  \\\n",
            "0        public          NaN           often                   230   \n",
            "1  walk/bicycle          NaN           often                   114   \n",
            "2       private       petrol           never                   138   \n",
            "3  walk/bicycle          NaN       sometimes                   157   \n",
            "4       private       diesel           often                   266   \n",
            "\n",
            "  Frequency of Traveling by Air  Vehicle Monthly Distance Km Waste Bag Size  \\\n",
            "0                    frequently                          210          large   \n",
            "1                        rarely                            9    extra large   \n",
            "2                         never                         2472          small   \n",
            "3                        rarely                           74         medium   \n",
            "4               very frequently                         8457          large   \n",
            "\n",
            "   Waste Bag Weekly Count  How Long TV PC Daily Hour  \\\n",
            "0                       4                          7   \n",
            "1                       3                          9   \n",
            "2                       1                         14   \n",
            "3                       3                         20   \n",
            "4                       1                          3   \n",
            "\n",
            "   How Many New Clothes Monthly  How Long Internet Daily Hour  \\\n",
            "0                            26                             1   \n",
            "1                            38                             5   \n",
            "2                            47                             6   \n",
            "3                             5                             7   \n",
            "4                             5                             6   \n",
            "\n",
            "  Energy efficiency                               Recycling  \\\n",
            "0                No                               ['Metal']   \n",
            "1                No                               ['Metal']   \n",
            "2         Sometimes                               ['Metal']   \n",
            "3         Sometimes  ['Paper', 'Plastic', 'Glass', 'Metal']   \n",
            "4               Yes                               ['Paper']   \n",
            "\n",
            "                         Cooking_With  CarbonEmission  \n",
            "0                   ['Stove', 'Oven']            2238  \n",
            "1              ['Stove', 'Microwave']            1892  \n",
            "2               ['Oven', 'Microwave']            2595  \n",
            "3  ['Microwave', 'Grill', 'Airfryer']            1074  \n",
            "4                            ['Oven']            4743  \n",
            "<class 'pandas.core.frame.DataFrame'>\n",
            "RangeIndex: 10000 entries, 0 to 9999\n",
            "Data columns (total 20 columns):\n",
            " #   Column                         Non-Null Count  Dtype \n",
            "---  ------                         --------------  ----- \n",
            " 0   Body Type                      10000 non-null  object\n",
            " 1   Sex                            10000 non-null  object\n",
            " 2   Diet                           10000 non-null  object\n",
            " 3   How Often Shower               10000 non-null  object\n",
            " 4   Heating Energy Source          10000 non-null  object\n",
            " 5   Transport                      10000 non-null  object\n",
            " 6   Vehicle Type                   3279 non-null   object\n",
            " 7   Social Activity                10000 non-null  object\n",
            " 8   Monthly Grocery Bill           10000 non-null  int64 \n",
            " 9   Frequency of Traveling by Air  10000 non-null  object\n",
            " 10  Vehicle Monthly Distance Km    10000 non-null  int64 \n",
            " 11  Waste Bag Size                 10000 non-null  object\n",
            " 12  Waste Bag Weekly Count         10000 non-null  int64 \n",
            " 13  How Long TV PC Daily Hour      10000 non-null  int64 \n",
            " 14  How Many New Clothes Monthly   10000 non-null  int64 \n",
            " 15  How Long Internet Daily Hour   10000 non-null  int64 \n",
            " 16  Energy efficiency              10000 non-null  object\n",
            " 17  Recycling                      10000 non-null  object\n",
            " 18  Cooking_With                   10000 non-null  object\n",
            " 19  CarbonEmission                 10000 non-null  int64 \n",
            "dtypes: int64(7), object(13)\n",
            "memory usage: 1.5+ MB\n",
            "None\n",
            "Body Type                           0\n",
            "Sex                                 0\n",
            "Diet                                0\n",
            "How Often Shower                    0\n",
            "Heating Energy Source               0\n",
            "Transport                           0\n",
            "Vehicle Type                     6721\n",
            "Social Activity                     0\n",
            "Monthly Grocery Bill                0\n",
            "Frequency of Traveling by Air       0\n",
            "Vehicle Monthly Distance Km         0\n",
            "Waste Bag Size                      0\n",
            "Waste Bag Weekly Count              0\n",
            "How Long TV PC Daily Hour           0\n",
            "How Many New Clothes Monthly        0\n",
            "How Long Internet Daily Hour        0\n",
            "Energy efficiency                   0\n",
            "Recycling                           0\n",
            "Cooking_With                        0\n",
            "CarbonEmission                      0\n",
            "dtype: int64\n"
          ]
        }
      ],
      "source": [
        "# Load the dataset\n",
        "file_path = 'Carbon Emission.csv'\n",
        "df = pd.read_csv(file_path)\n",
        "\n",
        "# Check loading worked\n",
        "print(df.head())\n",
        "print(df.info())\n",
        "\n",
        "# Check for missing values\n",
        "print(df.isnull().sum())"
      ]
    },
    {
      "cell_type": "code",
      "execution_count": 7,
      "metadata": {
        "colab": {
          "base_uri": "https://localhost:8080/"
        },
        "id": "m1xX9adosyyT",
        "outputId": "912dfd07-e2e4-45e8-8cc6-8f30cad77c3e"
      },
      "outputs": [
        {
          "name": "stdout",
          "output_type": "stream",
          "text": [
            "['public' 'walk/bicycle']\n",
            "Body Type                        0\n",
            "Sex                              0\n",
            "Diet                             0\n",
            "How Often Shower                 0\n",
            "Heating Energy Source            0\n",
            "Transport                        0\n",
            "Vehicle Type                     0\n",
            "Social Activity                  0\n",
            "Monthly Grocery Bill             0\n",
            "Frequency of Traveling by Air    0\n",
            "Vehicle Monthly Distance Km      0\n",
            "Waste Bag Size                   0\n",
            "Waste Bag Weekly Count           0\n",
            "How Long TV PC Daily Hour        0\n",
            "How Many New Clothes Monthly     0\n",
            "How Long Internet Daily Hour     0\n",
            "Energy efficiency                0\n",
            "Recycling                        0\n",
            "Cooking_With                     0\n",
            "CarbonEmission                   0\n",
            "dtype: int64\n",
            "    Body Type     Sex         Diet How Often Shower Heating Energy Source  \\\n",
            "0  overweight  female  pescatarian            daily                  coal   \n",
            "1       obese  female   vegetarian  less frequently           natural gas   \n",
            "2  overweight    male     omnivore  more frequently                  wood   \n",
            "3  overweight    male     omnivore      twice a day                  wood   \n",
            "4       obese  female   vegetarian            daily                  coal   \n",
            "\n",
            "      Transport Vehicle Type Social Activity  Monthly Grocery Bill  \\\n",
            "0        public         None           often                   230   \n",
            "1  walk/bicycle         None           often                   114   \n",
            "2       private       petrol           never                   138   \n",
            "3  walk/bicycle         None       sometimes                   157   \n",
            "4       private       diesel           often                   266   \n",
            "\n",
            "  Frequency of Traveling by Air  Vehicle Monthly Distance Km Waste Bag Size  \\\n",
            "0                    frequently                          210          large   \n",
            "1                        rarely                            9    extra large   \n",
            "2                         never                         2472          small   \n",
            "3                        rarely                           74         medium   \n",
            "4               very frequently                         8457          large   \n",
            "\n",
            "   Waste Bag Weekly Count  How Long TV PC Daily Hour  \\\n",
            "0                       4                          7   \n",
            "1                       3                          9   \n",
            "2                       1                         14   \n",
            "3                       3                         20   \n",
            "4                       1                          3   \n",
            "\n",
            "   How Many New Clothes Monthly  How Long Internet Daily Hour  \\\n",
            "0                            26                             1   \n",
            "1                            38                             5   \n",
            "2                            47                             6   \n",
            "3                             5                             7   \n",
            "4                             5                             6   \n",
            "\n",
            "  Energy efficiency                               Recycling  \\\n",
            "0                No                               ['Metal']   \n",
            "1                No                               ['Metal']   \n",
            "2         Sometimes                               ['Metal']   \n",
            "3         Sometimes  ['Paper', 'Plastic', 'Glass', 'Metal']   \n",
            "4               Yes                               ['Paper']   \n",
            "\n",
            "                         Cooking_With  CarbonEmission  \n",
            "0                   ['Stove', 'Oven']            2238  \n",
            "1              ['Stove', 'Microwave']            1892  \n",
            "2               ['Oven', 'Microwave']            2595  \n",
            "3  ['Microwave', 'Grill', 'Airfryer']            1074  \n",
            "4                            ['Oven']            4743  \n"
          ]
        }
      ],
      "source": [
        "# Based on previous work we know Vehicle has null values\n",
        "nullVehicleType = df.loc[df['Vehicle Type'].isnull()]\n",
        "print(nullVehicleType['Transport'].unique())\n",
        "\n",
        "# Updating Vehicle\n",
        "dfNonNull = df.fillna('None')\n",
        "print(dfNonNull.isnull().sum())\n",
        "\n",
        "# Display the first few rows after handling missing values\n",
        "print(dfNonNull.head())"
      ]
    },
    {
      "cell_type": "code",
      "execution_count": 8,
      "metadata": {
        "colab": {
          "base_uri": "https://localhost:8080/"
        },
        "id": "ZCb9X9Bls3h0",
        "outputId": "5d359887-115b-4a4f-8f45-25ca28d14d7c"
      },
      "outputs": [
        {
          "name": "stdout",
          "output_type": "stream",
          "text": [
            "<class 'pandas.core.frame.DataFrame'>\n",
            "RangeIndex: 10000 entries, 0 to 9999\n",
            "Data columns (total 20 columns):\n",
            " #   Column                         Non-Null Count  Dtype \n",
            "---  ------                         --------------  ----- \n",
            " 0   Body Type                      10000 non-null  int64 \n",
            " 1   Sex                            10000 non-null  int64 \n",
            " 2   Diet                           10000 non-null  int64 \n",
            " 3   How Often Shower               10000 non-null  int64 \n",
            " 4   Heating Energy Source          10000 non-null  int64 \n",
            " 5   Transport                      10000 non-null  int64 \n",
            " 6   Vehicle Type                   10000 non-null  int64 \n",
            " 7   Social Activity                10000 non-null  int64 \n",
            " 8   Monthly Grocery Bill           10000 non-null  int64 \n",
            " 9   Frequency of Traveling by Air  10000 non-null  int64 \n",
            " 10  Vehicle Monthly Distance Km    10000 non-null  int64 \n",
            " 11  Waste Bag Size                 10000 non-null  int64 \n",
            " 12  Waste Bag Weekly Count         10000 non-null  int64 \n",
            " 13  How Long TV PC Daily Hour      10000 non-null  int64 \n",
            " 14  How Many New Clothes Monthly   10000 non-null  int64 \n",
            " 15  How Long Internet Daily Hour   10000 non-null  int64 \n",
            " 16  Energy efficiency              10000 non-null  int64 \n",
            " 17  Recycling                      10000 non-null  object\n",
            " 18  Cooking_With                   10000 non-null  object\n",
            " 19  CarbonEmission                 10000 non-null  int64 \n",
            "dtypes: int64(18), object(2)\n",
            "memory usage: 1.5+ MB\n",
            "None\n",
            "   Body Type  Sex  Diet  How Often Shower  Heating Energy Source  Transport  \\\n",
            "0          0    0     0                 0                      0          0   \n",
            "1          1    0     1                 1                      1          1   \n",
            "2          0    1     2                 2                      2          2   \n",
            "3          0    1     2                 3                      2          1   \n",
            "4          1    0     1                 0                      0          2   \n",
            "\n",
            "   Vehicle Type  Social Activity  Monthly Grocery Bill  \\\n",
            "0             0                0                   230   \n",
            "1             0                0                   114   \n",
            "2             1                1                   138   \n",
            "3             0                2                   157   \n",
            "4             2                0                   266   \n",
            "\n",
            "   Frequency of Traveling by Air  Vehicle Monthly Distance Km  Waste Bag Size  \\\n",
            "0                              0                          210               0   \n",
            "1                              1                            9               1   \n",
            "2                              2                         2472               2   \n",
            "3                              1                           74               3   \n",
            "4                              3                         8457               0   \n",
            "\n",
            "   Waste Bag Weekly Count  How Long TV PC Daily Hour  \\\n",
            "0                       4                          7   \n",
            "1                       3                          9   \n",
            "2                       1                         14   \n",
            "3                       3                         20   \n",
            "4                       1                          3   \n",
            "\n",
            "   How Many New Clothes Monthly  How Long Internet Daily Hour  \\\n",
            "0                            26                             1   \n",
            "1                            38                             5   \n",
            "2                            47                             6   \n",
            "3                             5                             7   \n",
            "4                             5                             6   \n",
            "\n",
            "   Energy efficiency                               Recycling  \\\n",
            "0                  0                               ['Metal']   \n",
            "1                  0                               ['Metal']   \n",
            "2                  1                               ['Metal']   \n",
            "3                  1  ['Paper', 'Plastic', 'Glass', 'Metal']   \n",
            "4                  2                               ['Paper']   \n",
            "\n",
            "                         Cooking_With  CarbonEmission  \n",
            "0                   ['Stove', 'Oven']            2238  \n",
            "1              ['Stove', 'Microwave']            1892  \n",
            "2               ['Oven', 'Microwave']            2595  \n",
            "3  ['Microwave', 'Grill', 'Airfryer']            1074  \n",
            "4                            ['Oven']            4743  \n"
          ]
        }
      ],
      "source": [
        "# I also could not get pipeline to play nice with random forests. Re-used this from KNN\n",
        "# Map each categorical column to numeric values\n",
        "dfNonNull['Body Type'] = dfNonNull['Body Type'].map({'overweight': 0, 'obese': 1, 'underweight': 2, 'normal': 3})\n",
        "dfNonNull['Sex'] = dfNonNull['Sex'].map({'female': 0, 'male': 1})\n",
        "dfNonNull['Diet'] = dfNonNull['Diet'].map({'pescatarian': 0, 'vegetarian': 1, 'omnivore': 2, 'vegan': 3})\n",
        "dfNonNull['How Often Shower'] = dfNonNull['How Often Shower'].map({'daily': 0, 'less frequently': 1, 'more frequently': 2, 'twice a day': 3})\n",
        "dfNonNull['Heating Energy Source'] = dfNonNull['Heating Energy Source'].map({'coal': 0, 'natural gas': 1, 'wood': 2, 'electricity': 3})\n",
        "dfNonNull['Transport'] = dfNonNull['Transport'].map({'public': 0, 'walk/bicycle': 1, 'private': 2})\n",
        "dfNonNull['Vehicle Type'] = dfNonNull['Vehicle Type'].map({'None': 0, 'petrol': 1, 'diesel': 2, 'hybrid': 3, 'lpg': 4, 'electric': 5})\n",
        "dfNonNull['Social Activity'] = dfNonNull['Social Activity'].map({'often': 0, 'never': 1, 'sometimes': 2})\n",
        "dfNonNull['Frequency of Traveling by Air'] = dfNonNull['Frequency of Traveling by Air'].map({'frequently': 0, 'rarely': 1, 'never': 2, 'very frequently': 3})\n",
        "dfNonNull['Waste Bag Size'] = dfNonNull['Waste Bag Size'].map({'large': 0, 'extra large': 1, 'small': 2, 'medium': 3})\n",
        "dfNonNull['Energy efficiency'] = dfNonNull['Energy efficiency'].map({'No': 0, 'Sometimes': 1, 'Yes': 2})\n",
        "\n",
        "# Display the dataframe info after encoding\n",
        "print(dfNonNull.info())\n",
        "print(dfNonNull.head())"
      ]
    },
    {
      "cell_type": "code",
      "execution_count": 9,
      "metadata": {
        "colab": {
          "base_uri": "https://localhost:8080/"
        },
        "id": "tBTb-OKns6R0",
        "outputId": "c77a741a-3d63-4d9a-f94b-607b591e8326"
      },
      "outputs": [
        {
          "name": "stdout",
          "output_type": "stream",
          "text": [
            "   Body Type  Sex  Diet  How Often Shower  Heating Energy Source  Transport  \\\n",
            "0          0    0     0                 0                      0          0   \n",
            "1          1    0     1                 1                      1          1   \n",
            "2          0    1     2                 2                      2          2   \n",
            "3          0    1     2                 3                      2          1   \n",
            "4          1    0     1                 0                      0          2   \n",
            "\n",
            "   Vehicle Type  Social Activity  Monthly Grocery Bill  \\\n",
            "0             0                0                   230   \n",
            "1             0                0                   114   \n",
            "2             1                1                   138   \n",
            "3             0                2                   157   \n",
            "4             2                0                   266   \n",
            "\n",
            "   Frequency of Traveling by Air  Vehicle Monthly Distance Km  Waste Bag Size  \\\n",
            "0                              0                          210               0   \n",
            "1                              1                            9               1   \n",
            "2                              2                         2472               2   \n",
            "3                              1                           74               3   \n",
            "4                              3                         8457               0   \n",
            "\n",
            "   Waste Bag Weekly Count  How Long TV PC Daily Hour  \\\n",
            "0                       4                          7   \n",
            "1                       3                          9   \n",
            "2                       1                         14   \n",
            "3                       3                         20   \n",
            "4                       1                          3   \n",
            "\n",
            "   How Many New Clothes Monthly  How Long Internet Daily Hour  \\\n",
            "0                            26                             1   \n",
            "1                            38                             5   \n",
            "2                            47                             6   \n",
            "3                             5                             7   \n",
            "4                             5                             6   \n",
            "\n",
            "   Energy efficiency  CarbonEmission  \n",
            "0                  0            2238  \n",
            "1                  0            1892  \n",
            "2                  1            2595  \n",
            "3                  1            1074  \n",
            "4                  2            4743  \n"
          ]
        }
      ],
      "source": [
        "# Drop recycling and cooking\n",
        "dfNonNull = dfNonNull.drop('Recycling', axis=1)\n",
        "dfNonNull = dfNonNull.drop('Cooking_With', axis=1)\n",
        "print(dfNonNull.head())"
      ]
    },
    {
      "cell_type": "code",
      "execution_count": 10,
      "metadata": {
        "id": "0uspahgTs9q3"
      },
      "outputs": [],
      "source": [
        "# Split into features and trget\n",
        "X = dfNonNull.drop(columns=['CarbonEmission'])\n",
        "y = dfNonNull['CarbonEmission']"
      ]
    },
    {
      "cell_type": "code",
      "execution_count": 11,
      "metadata": {
        "id": "-q0Zrpjbs_X5"
      },
      "outputs": [],
      "source": [
        "# Using test train split here but I am thinking there is a better way\n",
        "# the TFDF model does not play nice with these datasets directly.\n",
        "\n",
        "X_train, X_test, y_train, y_test = train_test_split(X, y, test_size=0.2, random_state=42)\n",
        "# tfdfd does not simply work with the pandas dataframe that train test split retuns\n",
        "# we are making a copy of the dataframes and adding data frame and adding the target column to them\n",
        "# This process feels like this could be simplified somehow\n",
        "train_df = X_train.copy()\n",
        "train_df['CarbonEmission'] = y_train\n",
        "\n",
        "# We have to do something similar with the test set\n",
        "test_df = X_test.copy()\n",
        "test_df['CarbonEmission'] = y_test\n"
      ]
    },
    {
      "cell_type": "code",
      "execution_count": 12,
      "metadata": {
        "colab": {
          "base_uri": "https://localhost:8080/"
        },
        "id": "0hveejNFtCAF",
        "outputId": "45bb6d37-1c52-46d5-919a-cdd2151c31a5"
      },
      "outputs": [
        {
          "name": "stdout",
          "output_type": "stream",
          "text": [
            "Use /tmp/tmpzp7_e6ac as temporary training directory\n"
          ]
        }
      ],
      "source": [
        "# CReate the Model\n",
        "model = tfdf.keras.RandomForestModel(task=tfdf.keras.Task.REGRESSION)\n"
      ]
    },
    {
      "cell_type": "code",
      "execution_count": 13,
      "metadata": {
        "colab": {
          "base_uri": "https://localhost:8080/"
        },
        "id": "kfV2m5C5tKEu",
        "outputId": "2c7afb61-7d2f-4c3c-a78c-cc28a5b128f5"
      },
      "outputs": [
        {
          "name": "stdout",
          "output_type": "stream",
          "text": [
            "Warning: Some of the feature names have been changed automatically to be compatible with SavedModels because fix_feature_names=True.\n"
          ]
        },
        {
          "name": "stderr",
          "output_type": "stream",
          "text": [
            "WARNING:absl:Some of the feature names have been changed automatically to be compatible with SavedModels because fix_feature_names=True.\n"
          ]
        },
        {
          "name": "stdout",
          "output_type": "stream",
          "text": [
            "Reading training dataset...\n",
            "Training dataset read in 0:00:11.731364. Found 8000 examples.\n",
            "Training model...\n",
            "Model trained in 0:00:24.313127\n",
            "Compiling model...\n",
            "Model compiled.\n"
          ]
        },
        {
          "data": {
            "text/plain": [
              "<tf_keras.src.callbacks.History at 0x796c28109ab0>"
            ]
          },
          "execution_count": 13,
          "metadata": {},
          "output_type": "execute_result"
        }
      ],
      "source": [
        "# Converting to the dataset that tfdf uses\n",
        "train_ds = tfdf.keras.pd_dataframe_to_tf_dataset(train_df, label=\"CarbonEmission\", task=tfdf.keras.Task.REGRESSION)\n",
        "\n",
        "# Fit the model on the training data\n",
        "model.fit(train_ds)"
      ]
    },
    {
      "cell_type": "code",
      "execution_count": 14,
      "metadata": {
        "colab": {
          "base_uri": "https://localhost:8080/"
        },
        "id": "7BY2yGaotMrY",
        "outputId": "d3897695-4b1c-4ff5-9a80-6141674b476d"
      },
      "outputs": [
        {
          "name": "stdout",
          "output_type": "stream",
          "text": [
            "Warning: Some of the feature names have been changed automatically to be compatible with SavedModels because fix_feature_names=True.\n"
          ]
        },
        {
          "name": "stderr",
          "output_type": "stream",
          "text": [
            "WARNING:absl:Some of the feature names have been changed automatically to be compatible with SavedModels because fix_feature_names=True.\n"
          ]
        },
        {
          "name": "stdout",
          "output_type": "stream",
          "text": [
            "2/2 [==============================] - 13s 125ms/step - loss: 0.0000e+00 - mae: 216.6641\n",
            "{'loss': 0.0, 'mae': 216.6640625}\n",
            "Mean Absolute Error: 216.6640625\n"
          ]
        }
      ],
      "source": [
        "# For the testing data, we also have to convert to a format that the model can use\n",
        "test_ds = tfdf.keras.pd_dataframe_to_tf_dataset(test_df, label=\"CarbonEmission\", task=tfdf.keras.Task.REGRESSION)\n",
        "# Compile the model with Mean Absolute Error (MAE) as the evaluation metric\n",
        "model.compile(metrics=[\"mae\"])\n",
        "\n",
        "# Evaluate the model using MAE\n",
        "evaluation = model.evaluate(test_ds, return_dict=True)\n",
        "print(evaluation)\n",
        "print(f\"Mean Absolute Error: {evaluation['mae']}\")"
      ]
    },
    {
      "cell_type": "code",
      "execution_count": 15,
      "metadata": {
        "colab": {
          "base_uri": "https://localhost:8080/"
        },
        "id": "VonNILCetQtY",
        "outputId": "90f116b2-ce08-4e79-8aac-53931d054b59"
      },
      "outputs": [
        {
          "name": "stdout",
          "output_type": "stream",
          "text": [
            "Most important features:\n",
            "\"Vehicle_Monthly_Distance_Km\" (1; #13): 138.0\n",
            "\"Transport\" (1; #12): 64.0\n",
            "\"Vehicle_Type\" (1; #14): 49.0\n",
            "\"Frequency_of_Traveling_by_Air\" (1; #3): 26.0\n",
            "\"Body_Type\" (1; #0): 11.0\n",
            "\"How_Many_New_Clothes_Monthly\" (1; #7): 9.0\n",
            "\"Sex\" (1; #10): 2.0\n",
            "\"Waste_Bag_Weekly_Count\" (1; #16): 1.0\n"
          ]
        }
      ],
      "source": [
        "# Here we are getting the most important features\n",
        "most_important_features = model.make_inspector().variable_importances()[\"NUM_AS_ROOT\"]\n",
        "\n",
        "# Print the ffeatures\n",
        "print(\"Most important features:\")\n",
        "for attribute, importance in most_important_features:\n",
        "    print(f\"{attribute}: {importance}\")"
      ]
    },
    {
      "cell_type": "code",
      "execution_count": 16,
      "metadata": {
        "colab": {
          "base_uri": "https://localhost:8080/"
        },
        "id": "Ux9d9_xBtPMl",
        "outputId": "293fe4bb-82ac-4256-b4d8-3f87c4c5b29b"
      },
      "outputs": [
        {
          "name": "stdout",
          "output_type": "stream",
          "text": [
            "Warning: Some of the feature names have been changed automatically to be compatible with SavedModels because fix_feature_names=True.\n"
          ]
        },
        {
          "name": "stderr",
          "output_type": "stream",
          "text": [
            "WARNING:absl:Some of the feature names have been changed automatically to be compatible with SavedModels because fix_feature_names=True.\n"
          ]
        },
        {
          "name": "stdout",
          "output_type": "stream",
          "text": [
            "1/1 [==============================] - 0s 467ms/step\n",
            "Predicted Carbon Emission: 2199.768798828125\n",
            "Actual Carbon Emission: 1765\n",
            "\n",
            "Warning: Some of the feature names have been changed automatically to be compatible with SavedModels because fix_feature_names=True.\n"
          ]
        },
        {
          "name": "stderr",
          "output_type": "stream",
          "text": [
            "WARNING:absl:Some of the feature names have been changed automatically to be compatible with SavedModels because fix_feature_names=True.\n"
          ]
        },
        {
          "name": "stdout",
          "output_type": "stream",
          "text": [
            "1/1 [==============================] - 0s 153ms/step\n",
            "Predicted Carbon Emission: 1626.1064453125\n",
            "Actual Carbon Emission: 1733\n",
            "\n",
            "Warning: Some of the feature names have been changed automatically to be compatible with SavedModels because fix_feature_names=True.\n"
          ]
        },
        {
          "name": "stderr",
          "output_type": "stream",
          "text": [
            "WARNING:absl:Some of the feature names have been changed automatically to be compatible with SavedModels because fix_feature_names=True.\n"
          ]
        },
        {
          "name": "stdout",
          "output_type": "stream",
          "text": [
            "1/1 [==============================] - 0s 142ms/step\n",
            "Predicted Carbon Emission: 2527.25634765625\n",
            "Actual Carbon Emission: 2401\n",
            "\n",
            "Warning: Some of the feature names have been changed automatically to be compatible with SavedModels because fix_feature_names=True.\n"
          ]
        },
        {
          "name": "stderr",
          "output_type": "stream",
          "text": [
            "WARNING:absl:Some of the feature names have been changed automatically to be compatible with SavedModels because fix_feature_names=True.\n",
            "WARNING:tensorflow:5 out of the last 5 calls to <function InferenceCoreModel.make_predict_function.<locals>.predict_function_trained at 0x796c1f6770a0> triggered tf.function retracing. Tracing is expensive and the excessive number of tracings could be due to (1) creating @tf.function repeatedly in a loop, (2) passing tensors with different shapes, (3) passing Python objects instead of tensors. For (1), please define your @tf.function outside of the loop. For (2), @tf.function has reduce_retracing=True option that can avoid unnecessary retracing. For (3), please refer to https://www.tensorflow.org/guide/function#controlling_retracing and https://www.tensorflow.org/api_docs/python/tf/function for  more details.\n"
          ]
        },
        {
          "name": "stdout",
          "output_type": "stream",
          "text": [
            "1/1 [==============================] - 0s 116ms/step\n",
            "Predicted Carbon Emission: 2734.9892578125\n",
            "Actual Carbon Emission: 2837\n",
            "\n",
            "Warning: Some of the feature names have been changed automatically to be compatible with SavedModels because fix_feature_names=True.\n"
          ]
        },
        {
          "name": "stderr",
          "output_type": "stream",
          "text": [
            "WARNING:absl:Some of the feature names have been changed automatically to be compatible with SavedModels because fix_feature_names=True.\n",
            "WARNING:tensorflow:6 out of the last 6 calls to <function InferenceCoreModel.make_predict_function.<locals>.predict_function_trained at 0x796c1f676c20> triggered tf.function retracing. Tracing is expensive and the excessive number of tracings could be due to (1) creating @tf.function repeatedly in a loop, (2) passing tensors with different shapes, (3) passing Python objects instead of tensors. For (1), please define your @tf.function outside of the loop. For (2), @tf.function has reduce_retracing=True option that can avoid unnecessary retracing. For (3), please refer to https://www.tensorflow.org/guide/function#controlling_retracing and https://www.tensorflow.org/api_docs/python/tf/function for  more details.\n"
          ]
        },
        {
          "name": "stdout",
          "output_type": "stream",
          "text": [
            "1/1 [==============================] - 0s 133ms/step\n",
            "Predicted Carbon Emission: 1899.3165283203125\n",
            "Actual Carbon Emission: 1899\n",
            "\n",
            "Warning: Some of the feature names have been changed automatically to be compatible with SavedModels because fix_feature_names=True.\n"
          ]
        },
        {
          "name": "stderr",
          "output_type": "stream",
          "text": [
            "WARNING:absl:Some of the feature names have been changed automatically to be compatible with SavedModels because fix_feature_names=True.\n"
          ]
        },
        {
          "name": "stdout",
          "output_type": "stream",
          "text": [
            "1/1 [==============================] - 0s 135ms/step\n",
            "Predicted Carbon Emission: 2165.0205078125\n",
            "Actual Carbon Emission: 2173\n",
            "\n",
            "Warning: Some of the feature names have been changed automatically to be compatible with SavedModels because fix_feature_names=True.\n"
          ]
        },
        {
          "name": "stderr",
          "output_type": "stream",
          "text": [
            "WARNING:absl:Some of the feature names have been changed automatically to be compatible with SavedModels because fix_feature_names=True.\n"
          ]
        },
        {
          "name": "stdout",
          "output_type": "stream",
          "text": [
            "1/1 [==============================] - 0s 145ms/step\n",
            "Predicted Carbon Emission: 3480.8125\n",
            "Actual Carbon Emission: 3493\n",
            "\n",
            "Warning: Some of the feature names have been changed automatically to be compatible with SavedModels because fix_feature_names=True.\n"
          ]
        },
        {
          "name": "stderr",
          "output_type": "stream",
          "text": [
            "WARNING:absl:Some of the feature names have been changed automatically to be compatible with SavedModels because fix_feature_names=True.\n"
          ]
        },
        {
          "name": "stdout",
          "output_type": "stream",
          "text": [
            "1/1 [==============================] - 0s 201ms/step\n",
            "Predicted Carbon Emission: 1636.6202392578125\n",
            "Actual Carbon Emission: 1678\n",
            "\n",
            "Warning: Some of the feature names have been changed automatically to be compatible with SavedModels because fix_feature_names=True.\n"
          ]
        },
        {
          "name": "stderr",
          "output_type": "stream",
          "text": [
            "WARNING:absl:Some of the feature names have been changed automatically to be compatible with SavedModels because fix_feature_names=True.\n"
          ]
        },
        {
          "name": "stdout",
          "output_type": "stream",
          "text": [
            "1/1 [==============================] - 0s 239ms/step\n",
            "Predicted Carbon Emission: 2751.9189453125\n",
            "Actual Carbon Emission: 2940\n",
            "\n",
            "Warning: Some of the feature names have been changed automatically to be compatible with SavedModels because fix_feature_names=True.\n"
          ]
        },
        {
          "name": "stderr",
          "output_type": "stream",
          "text": [
            "WARNING:absl:Some of the feature names have been changed automatically to be compatible with SavedModels because fix_feature_names=True.\n"
          ]
        },
        {
          "name": "stdout",
          "output_type": "stream",
          "text": [
            "1/1 [==============================] - 0s 360ms/step\n",
            "Predicted Carbon Emission: 987.2037963867188\n",
            "Actual Carbon Emission: 775\n",
            "\n"
          ]
        }
      ],
      "source": [
        "# Step 11: Test the model on multiple random rows\n",
        "num_tests = 10  # Number of random rows to test\n",
        "for _ in range(num_tests):\n",
        "    # Select a random row from the dataset\n",
        "    random_row = X.sample()\n",
        "\n",
        "    # Convert the random row to a TensorFlow dataset\n",
        "    random_row_ds = tfdf.keras.pd_dataframe_to_tf_dataset(random_row, task=tfdf.keras.Task.REGRESSION)\n",
        "\n",
        "    # Predict the carbon emission for the selected row\n",
        "    random_row_pred = model.predict(random_row_ds)\n",
        "    print(f'Predicted Carbon Emission: {random_row_pred[0][0]}')\n",
        "\n",
        "    # Get the actual carbon emission for the selected row\n",
        "    random_row_actual = dfNonNull.loc[random_row.index[0], 'CarbonEmission']\n",
        "    print(f'Actual Carbon Emission: {random_row_actual}')\n",
        "    print()"
      ]
    },
    {
      "cell_type": "code",
      "execution_count": 17,
      "metadata": {
        "colab": {
          "base_uri": "https://localhost:8080/"
        },
        "id": "mLnsX4EhyVPB",
        "outputId": "7b553d1c-4d8e-46e0-f584-3fcbb044a0d4"
      },
      "outputs": [
        {
          "name": "stdout",
          "output_type": "stream",
          "text": [
            "2/2 [==============================] - 1s 160ms/step\n",
            "Mean Absolute Error: 216.6640626220703\n",
            "R^2 Score: 0.9197274006013679\n"
          ]
        }
      ],
      "source": [
        "# Lets test the model on the entire test set\n",
        "y_pred = model.predict(test_ds)\n",
        "y_pred = np.array(y_pred)\n",
        "y_pred = y_pred.flatten()\n",
        "\n",
        "# Calculate the Mean Absolute Error (MAE) and R^2 score\n",
        "mae = mean_absolute_error(y_test, y_pred)\n",
        "r2 = r2_score(y_test, y_pred)\n",
        "print(f\"Mean Absolute Error: {mae}\")\n",
        "print(f\"R^2 Score: {r2}\")\n",
        "\n",
        "\n",
        "\n",
        "# Save the model\n",
        "model.save(\"decision_forest_model\")"
      ]
    }
  ],
  "metadata": {
    "colab": {
      "provenance": []
    },
    "kernelspec": {
      "display_name": "Python 3",
      "name": "python3"
    },
    "language_info": {
      "name": "python"
    }
  },
  "nbformat": 4,
  "nbformat_minor": 0
}
