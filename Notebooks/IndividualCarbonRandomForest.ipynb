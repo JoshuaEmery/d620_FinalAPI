{
 "cells": [
  {
   "cell_type": "code",
   "execution_count": 1,
   "metadata": {},
   "outputs": [
    {
     "name": "stdout",
     "output_type": "stream",
     "text": [
      "Mean Absolute Error: 216.698465\n",
      "R-squared: 0.921531617056217\n"
     ]
    }
   ],
   "source": [
    "from sklearn.model_selection import train_test_split\n",
    "from sklearn.ensemble import RandomForestRegressor\n",
    "from sklearn.metrics import mean_absolute_error, r2_score\n",
    "from sklearn.preprocessing import OneHotEncoder\n",
    "from sklearn.compose import ColumnTransformer\n",
    "from sklearn.pipeline import Pipeline\n",
    "from sklearn.impute import SimpleImputer\n",
    "import pandas as pd\n",
    "\n",
    "carbon_emission_data = pd.read_csv('Carbon Emission.csv')\n",
    "\n",
    "# Define the features and target\n",
    "X = carbon_emission_data.drop(columns=['CarbonEmission'])\n",
    "y = carbon_emission_data['CarbonEmission']\n",
    "\n",
    "# Identify categorical and numerical columns\n",
    "categorical_cols = X.select_dtypes(include=['object']).columns\n",
    "numerical_cols = X.select_dtypes(include=['int64']).columns\n",
    "\n",
    "# Preprocessing for numerical data\n",
    "numerical_transformer = SimpleImputer(strategy='mean')\n",
    "\n",
    "# Preprocessing for categorical data\n",
    "categorical_transformer = Pipeline(steps=[\n",
    "    ('imputer', SimpleImputer(strategy='most_frequent')),\n",
    "    ('onehot', OneHotEncoder(handle_unknown='ignore'))\n",
    "])\n",
    "\n",
    "# Bundle preprocessing for numerical and categorical data\n",
    "preprocessor = ColumnTransformer(\n",
    "    transformers=[\n",
    "        ('num', numerical_transformer, numerical_cols),\n",
    "        ('cat', categorical_transformer, categorical_cols)\n",
    "    ])\n",
    "\n",
    "# Define the model\n",
    "model = RandomForestRegressor(n_estimators=100, random_state=42)\n",
    "\n",
    "# Create and evaluate the pipeline\n",
    "clf = Pipeline(steps=[\n",
    "    ('preprocessor', preprocessor),\n",
    "    ('model', model)\n",
    "])\n",
    "\n",
    "# Split data into train and test sets\n",
    "X_train, X_test, y_train, y_test = train_test_split(X, y, test_size=0.2, random_state=42)\n",
    "\n",
    "# Fit the model\n",
    "clf.fit(X_train, y_train)\n",
    "\n",
    "# Make predictions\n",
    "y_pred = clf.predict(X_test)\n",
    "\n",
    "# Evaluate the model\n",
    "mae = mean_absolute_error(y_test, y_pred)\n",
    "r2 = r2_score(y_test, y_pred)\n",
    "\n",
    "print(f'Mean Absolute Error: {mae}')\n",
    "print(f'R-squared: {r2}')\n",
    "\n",
    "\n",
    "\n",
    "\n"
   ]
  },
  {
   "cell_type": "code",
   "execution_count": 7,
   "metadata": {},
   "outputs": [
    {
     "name": "stdout",
     "output_type": "stream",
     "text": [
      "Feature importances:\n",
      "Monthly Grocery Bill: 0.0103205929518623\n",
      "Vehicle Monthly Distance Km: 0.37583942884705873\n",
      "Waste Bag Weekly Count: 0.02480307616219856\n",
      "How Long TV PC Daily Hour: 0.0057788283664655755\n",
      "How Many New Clothes Monthly: 0.046105548752750115\n",
      "How Long Internet Daily Hour: 0.007858178393189861\n",
      "       Body Type     Sex         Diet How Often Shower Heating Energy Source  \\\n",
      "5314  overweight  female  pescatarian  less frequently                  coal   \n",
      "\n",
      "     Transport Vehicle Type Social Activity  Monthly Grocery Bill  \\\n",
      "5314   private     electric           never                   254   \n",
      "\n",
      "     Frequency of Traveling by Air  Vehicle Monthly Distance Km  \\\n",
      "5314                    frequently                         8180   \n",
      "\n",
      "     Waste Bag Size  Waste Bag Weekly Count  How Long TV PC Daily Hour  \\\n",
      "5314          large                       3                          8   \n",
      "\n",
      "      How Many New Clothes Monthly  How Long Internet Daily Hour  \\\n",
      "5314                            17                             0   \n",
      "\n",
      "     Energy efficiency    Recycling                   Cooking_With  \n",
      "5314         Sometimes  ['Plastic']  ['Oven', 'Grill', 'Airfryer']  \n",
      "Predicted Carbon Emission: 2019.76\n",
      "Actual Carbon Emission: 1948\n"
     ]
    }
   ],
   "source": [
    "# Get the feature names\n",
    "# Feature importance\n",
    "feature_importances = clf.named_steps['model'].feature_importances_\n",
    "\n",
    "print('Feature importances:')\n",
    "for i, col in enumerate(numerical_cols):\n",
    "    print(f'{col}: {feature_importances[i]}')\n",
    "\n",
    "# # lets predict a human based on the following data\n",
    "#Body Type\tSex\tDiet\tHow Often Shower\tHeating Energy Source\tTransport\tVehicle Type\tSocial Activity\tMonthly Grocery Bill\tFrequency of Traveling by Air\tVehicle Monthly Distance Km\tWaste Bag Size\tWaste Bag Weekly Count\tHow Long TV PC Daily Hour\tHow Many New Clothes Monthly\tHow Long Internet Daily Hour\tEnergy efficiency\tRecycling\tCooking_With\tCarbonEmission\n",
    "\n",
    "# lets pull a random row from the data\n",
    "random_row = X.sample()\n",
    "print(random_row)\n",
    "\n",
    "# lets predict the carbon emission of the random row\n",
    "random_row_pred = clf.predict(random_row)\n",
    "print(f'Predicted Carbon Emission: {random_row_pred[0]}')\n",
    "\n",
    "# what is the actual carbon emission of the random row\n",
    "random_row_actual = carbon_emission_data.loc[random_row.index[0], 'CarbonEmission']\n",
    "print(f'Actual Carbon Emission: {random_row_actual}')\n",
    "\n"
   ]
  }
 ],
 "metadata": {
  "kernelspec": {
   "display_name": "Python 3",
   "language": "python",
   "name": "python3"
  },
  "language_info": {
   "codemirror_mode": {
    "name": "ipython",
    "version": 3
   },
   "file_extension": ".py",
   "mimetype": "text/x-python",
   "name": "python",
   "nbconvert_exporter": "python",
   "pygments_lexer": "ipython3",
   "version": "3.11.9"
  }
 },
 "nbformat": 4,
 "nbformat_minor": 2
}
